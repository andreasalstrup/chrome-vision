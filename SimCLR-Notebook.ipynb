{
 "cells": [
  {
   "attachments": {},
   "cell_type": "markdown",
   "metadata": {},
   "source": [
    "# SimCLR Notebook"
   ]
  },
  {
   "attachments": {},
   "cell_type": "markdown",
   "metadata": {},
   "source": [
    "## Torch Setup"
   ]
  },
  {
   "cell_type": "code",
   "execution_count": null,
   "metadata": {},
   "outputs": [],
   "source": [
    "import torch\n",
    "from torch import device, nn\n",
    "from torch.utils.data import DataLoader\n",
    "import torchvision\n",
    "import torchvision.io as io\n",
    "\n",
    "torch.manual_seed(42)\n",
    "\n",
    "print(f'PyTorch version: {torch.__version__}\\ntorchvision version: {torchvision.__version__}')\n",
    "\n",
    "device = \"cuda\" if torch.cuda.is_available() else \"cpu\"\n",
    "print(f'Using device: {device}')"
   ]
  },
  {
   "attachments": {},
   "cell_type": "markdown",
   "metadata": {},
   "source": [
    "## Data Setup"
   ]
  },
  {
   "cell_type": "code",
   "execution_count": null,
   "metadata": {},
   "outputs": [],
   "source": [
    "from utils.clr_utils import ContrastiveLearningTransforms, ContrastiveLearningViewGenerator\n",
    "import dataset\n",
    "\n",
    "out_dim = 128\n",
    "temperature = 0.07\n",
    "learning_rate = 0.0003\n",
    "weight_decay = 1e-4\n",
    "contrastive_views = 2\n",
    "BATCH_SIZE = 256\n",
    "\n",
    "\n",
    "\n",
    "trainCut = dataset.chromeCutter(\"data/leftImg8bit/indices/trainIndex/bremen.csv\",\"data/leftImg8bit/train/bremen/\", \"bremenCut\", \"train\")\n",
    "\n",
    "train_dataset = dataset.ChromeData(annotations_file=\"data/leftImg8bit/indices/trainIndex/bremenCut.csv\", \n",
    "                                     img_dir=\"data/leftImg8bit/train/cut/bremenCut\",                                      \n",
    "                                     transform = ContrastiveLearningViewGenerator(\n",
    "                                        ContrastiveLearningTransforms.get_simclr_pipeline_transform(32),\n",
    "                                        contrastive_views)\n",
    "                                    )                                     \n",
    "\n",
    "train_loader = DataLoader(train_dataset, batch_size=BATCH_SIZE, shuffle=True, drop_last=True)"
   ]
  },
  {
   "attachments": {},
   "cell_type": "markdown",
   "metadata": {},
   "source": [
    "## Model Setup"
   ]
  },
  {
   "cell_type": "code",
   "execution_count": null,
   "metadata": {},
   "outputs": [],
   "source": [
    "from model.chrome_CLR import ChromeCLR\n",
    "from model.CLR_trainer import CLRTrainer\n",
    "\n",
    "model = ChromeCLR(out_dim=out_dim).to(device)\n",
    "#optimizer = torch.optim.Adam(model.parameters(), learning_rate, weight_decay)\n",
    "optimizer = torch.optim.Adam(params=model.parameters(), lr=learning_rate, betas=(0.9, 0.999), eps=1e-08, weight_decay=weight_decay)\n",
    "scheduler = torch.optim.lr_scheduler.CosineAnnealingLR(optimizer, T_max=len(train_loader), eta_min=0, last_epoch=-1)\n",
    "criterion = torch.nn.CrossEntropyLoss().to(device)"
   ]
  },
  {
   "attachments": {},
   "cell_type": "markdown",
   "metadata": {},
   "source": [
    "## Training"
   ]
  },
  {
   "cell_type": "code",
   "execution_count": null,
   "metadata": {},
   "outputs": [],
   "source": [
    "EPOCHS = 10\n",
    "\n",
    "trainer = CLRTrainer(epochs=EPOCHS, model=model, optimizer=optimizer, scheduler=scheduler, criterion=criterion, batch_size=BATCH_SIZE, device=device, temp=temperature, con_views=contrastive_views)\n",
    "\n",
    "trainer.train(train_loader=train_loader)"
   ]
  }
 ],
 "metadata": {
  "kernelspec": {
   "display_name": "cv",
   "language": "python",
   "name": "python3"
  },
  "language_info": {
   "codemirror_mode": {
    "name": "ipython",
    "version": 3
   },
   "file_extension": ".py",
   "mimetype": "text/x-python",
   "name": "python",
   "nbconvert_exporter": "python",
   "pygments_lexer": "ipython3",
   "version": "3.10.9"
  },
  "orig_nbformat": 4
 },
 "nbformat": 4,
 "nbformat_minor": 2
}
