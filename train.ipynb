{
 "cells": [
  {
   "attachments": {},
   "cell_type": "markdown",
   "metadata": {},
   "source": [
    "# The dojo"
   ]
  },
  {
   "attachments": {},
   "cell_type": "markdown",
   "metadata": {},
   "source": [
    "## Setup training device"
   ]
  },
  {
   "cell_type": "code",
   "execution_count": 1,
   "metadata": {},
   "outputs": [
    {
     "name": "stdout",
     "output_type": "stream",
     "text": [
      "zsh:1: command not found: nvidia-smi\n"
     ]
    }
   ],
   "source": [
    "!nvidia-smi"
   ]
  },
  {
   "cell_type": "code",
   "execution_count": 2,
   "metadata": {},
   "outputs": [
    {
     "name": "stdout",
     "output_type": "stream",
     "text": [
      "PyTorch version: 1.13.1\n",
      "torchvision version: 0.14.1a0+b69fce3\n",
      "Using device: cpu\n"
     ]
    }
   ],
   "source": [
    "import torch\n",
    "from torch import device, nn\n",
    "import torchvision\n",
    "import torchvision.io as io\n",
    "\n",
    "torch.manual_seed(42)\n",
    "\n",
    "print(f'PyTorch version: {torch.__version__}\\ntorchvision version: {torchvision.__version__}')\n",
    "\n",
    "device = \"cuda\" if torch.cuda.is_available() else \"cpu\"\n",
    "print(f'Using device: {device}')\n",
    "\n",
    "ok = io.read_image(\"data/E45Vejle_1011.jpg\")"
   ]
  },
  {
   "attachments": {},
   "cell_type": "markdown",
   "metadata": {},
   "source": [
    "## Data loading"
   ]
  },
  {
   "attachments": {},
   "cell_type": "markdown",
   "metadata": {},
   "source": [
    "### Test dataset"
   ]
  },
  {
   "cell_type": "code",
   "execution_count": 3,
   "metadata": {},
   "outputs": [
    {
     "name": "stdout",
     "output_type": "stream",
     "text": [
      "Len of train dataloader: 1875 batches of 32\n",
      "Len of test dataloader: 313 batches of 32\n"
     ]
    }
   ],
   "source": [
    "from torchvision import datasets\n",
    "from torch.utils.data import DataLoader\n",
    "from torchvision.transforms import ToTensor\n",
    "\n",
    "MNIST_train_data = datasets.FashionMNIST(\n",
    "    root=\"data\",\n",
    "    train=True,\n",
    "    download=True,\n",
    "    transform=ToTensor(),\n",
    "    target_transform=None,\n",
    ")\n",
    "\n",
    "MNIST_test_data = datasets.FashionMNIST(\n",
    "    root=\"data\",\n",
    "    train=False,\n",
    "    download=True,\n",
    "    transform=ToTensor()\n",
    ")\n",
    "\n",
    "BATCH_SIZE = 32\n",
    "\n",
    "MNIST_class_names = MNIST_train_data.classes\n",
    "\n",
    "MNIST_train_dataloader = DataLoader(MNIST_train_data,\n",
    "                              batch_size=BATCH_SIZE,\n",
    "                              shuffle=True,\n",
    "                              drop_last=True) # Drop last\n",
    "\n",
    "MNIST_test_dataloader = DataLoader(MNIST_test_data,\n",
    "                             batch_size=BATCH_SIZE,\n",
    "                             shuffle=False)\n",
    "\n",
    "print(f'Len of train dataloader: {len(MNIST_train_dataloader)} batches of {BATCH_SIZE}')\n",
    "print(f'Len of test dataloader: {len(MNIST_test_dataloader)} batches of {BATCH_SIZE}')"
   ]
  },
  {
   "attachments": {},
   "cell_type": "markdown",
   "metadata": {},
   "source": [
    "##### Check out what's inside the training dataloader"
   ]
  },
  {
   "cell_type": "code",
   "execution_count": 4,
   "metadata": {},
   "outputs": [
    {
     "name": "stdout",
     "output_type": "stream",
     "text": [
      "Train features shape: torch.Size([32, 1, 28, 28])\n",
      "Train labels shape: torch.Size([32])\n"
     ]
    }
   ],
   "source": [
    "train_features_batch = next(iter(MNIST_train_dataloader))\n",
    "MNIST_train_features_batch, MNIST_train_labels_batch = next(iter(MNIST_train_dataloader))\n",
    "\n",
    "print(F\"Train features shape: {MNIST_train_features_batch.shape}\")\n",
    "print(F\"Train labels shape: {MNIST_train_labels_batch.shape}\")"
   ]
  },
  {
   "attachments": {},
   "cell_type": "markdown",
   "metadata": {},
   "source": [
    "### Custom dataset"
   ]
  },
  {
   "cell_type": "code",
   "execution_count": 5,
   "metadata": {},
   "outputs": [],
   "source": [
    "from torchvision import transforms\n",
    "\n",
    "train_transforms = transforms.Compose([\n",
    "    transforms.ToPILImage(),\n",
    "    transforms.Resize((64, 64)),\n",
    "    transforms.TrivialAugmentWide(num_magnitude_bins=31),\n",
    "    transforms.ToTensor()\n",
    "])\n",
    "\n",
    "test_transforms = transforms.Compose([\n",
    "    transforms.ToPILImage(),\n",
    "    transforms.Resize((64, 64)),\n",
    "    transforms.ToTensor()\n",
    "])"
   ]
  },
  {
   "cell_type": "code",
   "execution_count": 6,
   "metadata": {},
   "outputs": [
    {
     "name": "stdout",
     "output_type": "stream",
     "text": [
      "Len of train dataloader: 10 batches of 32\n",
      "Len of test dataloader: 17 batches of 32\n"
     ]
    }
   ],
   "source": [
    "from torch.utils.data import DataLoader\n",
    "from utils.dataset import CustomImageDataset\n",
    "from torchvision import transforms\n",
    "\n",
    "train_data = CustomImageDataset(\"indices/trainIndex/bremen.csv\",\"data/leftImg8bit/train/bremen/\", transform=train_transforms)\n",
    "test_data = CustomImageDataset(\"indices/testIndex/berlin.csv\",\"data/leftImg8bit/test/berlin/\", transform=test_transforms)\n",
    "\n",
    "BATCH_SIZE = 32\n",
    "\n",
    "train_dataloader = DataLoader(train_data,\n",
    "                              batch_size=BATCH_SIZE,\n",
    "                              shuffle=True)\n",
    "\n",
    "test_dataloader = DataLoader(test_data,\n",
    "                             batch_size=BATCH_SIZE,\n",
    "                             shuffle=False)\n",
    "\n",
    "print(f'Len of train dataloader: {len(train_dataloader)} batches of {BATCH_SIZE}')\n",
    "print(f'Len of test dataloader: {len(test_dataloader)} batches of {BATCH_SIZE}')"
   ]
  },
  {
   "attachments": {},
   "cell_type": "markdown",
   "metadata": {},
   "source": [
    "##### Check out what's inside the training dataloader"
   ]
  },
  {
   "cell_type": "code",
   "execution_count": 7,
   "metadata": {},
   "outputs": [
    {
     "name": "stdout",
     "output_type": "stream",
     "text": [
      "Train features shape: torch.Size([32, 3, 64, 64])\n"
     ]
    }
   ],
   "source": [
    "train_features_batch = next(iter(train_dataloader))\n",
    "\n",
    "print(F\"Train features shape: {train_features_batch.shape}\")"
   ]
  },
  {
   "attachments": {},
   "cell_type": "markdown",
   "metadata": {},
   "source": [
    "## Model"
   ]
  },
  {
   "attachments": {},
   "cell_type": "markdown",
   "metadata": {},
   "source": [
    "### Create a flatten layer - Testing Flatten()"
   ]
  },
  {
   "cell_type": "code",
   "execution_count": 8,
   "metadata": {},
   "outputs": [
    {
     "name": "stdout",
     "output_type": "stream",
     "text": [
      "Shape before flattening: torch.Size([3, 64, 64])\n",
      "Shape after flattening: torch.Size([3, 4096])\n"
     ]
    }
   ],
   "source": [
    "flatten_model = nn.Flatten()\n",
    "\n",
    "x = train_features_batch[0]\n",
    "print(f'Shape before flattening: {x.shape}')     # torch.Size([3, 1024, 2048])\n",
    "\n",
    "output = flatten_model(x)\n",
    "print(f'Shape after flattening: {output.shape}') # torch.Size([3, 2097152])"
   ]
  },
  {
   "attachments": {},
   "cell_type": "markdown",
   "metadata": {},
   "source": [
    "### Instantiate model"
   ]
  },
  {
   "attachments": {},
   "cell_type": "markdown",
   "metadata": {},
   "source": [
    "#### Baseline models"
   ]
  },
  {
   "cell_type": "code",
   "execution_count": 9,
   "metadata": {},
   "outputs": [],
   "source": [
    "# For testing - do not change\n",
    "from model.chrome_vision import ChromeVisionModel\n",
    "\n",
    "test_CPU_baseline_model = ChromeVisionModel(\n",
    "    input_shape=784,    \n",
    "    hidden_units=10,    # Units in the hidden layer\n",
    "    output_shape=len(MNIST_class_names) # one for every class (Arbitrary right now)\n",
    ").to(device)\n",
    "\n",
    "model = test_CPU_baseline_model"
   ]
  },
  {
   "cell_type": "code",
   "execution_count": 10,
   "metadata": {},
   "outputs": [],
   "source": [
    "# For testing - do not change\n",
    "from model.chrome_vision import ChromeVisionModelV2\n",
    "\n",
    "test_GPU_CNN_model = ChromeVisionModelV2(\n",
    "    input_shape=1,      # Color channel: black/white \n",
    "    hidden_units=10,    # Units in the hidden layer\n",
    "    output_shape=(len(MNIST_class_names)) # Each class\n",
    ").to(device)\n",
    "\n",
    "model = test_GPU_CNN_model"
   ]
  },
  {
   "cell_type": "code",
   "execution_count": 11,
   "metadata": {},
   "outputs": [],
   "source": [
    "from model.chrome_vision import ChromeVisionModel\n",
    "\n",
    "model = ChromeVisionModel(\n",
    "    input_shape= 1024 * 2048,    \n",
    "    hidden_units=5,    # Units in the hidden layer\n",
    "    output_shape= 3 # one for every class (Arbitrary right now)\n",
    ").to(device)"
   ]
  },
  {
   "attachments": {},
   "cell_type": "markdown",
   "metadata": {},
   "source": [
    "#### MoCo"
   ]
  },
  {
   "cell_type": "code",
   "execution_count": 12,
   "metadata": {},
   "outputs": [],
   "source": [
    "from model.chrome_vision import ChromeCut\n",
    "from model.encoder import ResNet50\n",
    "import torch.nn as nn\n",
    "import torchvision.models as models\n",
    "from torchvision.models import ResNet50_Weights\n",
    "\n",
    "encoder = models.resnet50(weights=ResNet50_Weights.DEFAULT)\n",
    "\n",
    "IN_FEATURES = encoder.fc.in_features = 2048 # 2097152\n",
    "OUT_FEATURES = encoder.fc.out_features = 10\n",
    "encoder.fc = nn.Linear(IN_FEATURES, OUT_FEATURES)\n",
    "\n",
    "model = ChromeCut(base_encoder=encoder,\n",
    "                  feature_dim=OUT_FEATURES,\n",
    "                  queue_size=5000,\n",
    "                  momentum=0.9,\n",
    "                  softmax_temp=0.07,\n",
    "                  mlp=True).to(device)"
   ]
  },
  {
   "attachments": {},
   "cell_type": "markdown",
   "metadata": {},
   "source": [
    "### Setup loss function and optimizer"
   ]
  },
  {
   "cell_type": "code",
   "execution_count": 13,
   "metadata": {},
   "outputs": [],
   "source": [
    "loss_fn = nn.CrossEntropyLoss()\n",
    "\n",
    "# lr smaller than 0.001\n",
    "optimizer = torch.optim.Adam(params=model.parameters(), lr=0.001, betas=(0.9, 0.999), eps=1e-5, weight_decay=0)"
   ]
  },
  {
   "attachments": {},
   "cell_type": "markdown",
   "metadata": {},
   "source": [
    "### Training loop - MoCo"
   ]
  },
  {
   "cell_type": "code",
   "execution_count": 18,
   "metadata": {},
   "outputs": [
    {
     "data": {
      "application/vnd.jupyter.widget-view+json": {
       "model_id": "990e958cf9a7426196657c33c82256de",
       "version_major": 2,
       "version_minor": 0
      },
      "text/plain": [
       "  0%|          | 0/2 [00:00<?, ?it/s]"
      ]
     },
     "metadata": {},
     "output_type": "display_data"
    },
    {
     "name": "stdout",
     "output_type": "stream",
     "text": [
      "\n",
      "\tEpoch: 0\n",
      "\n"
     ]
    },
    {
     "data": {
      "application/vnd.jupyter.widget-view+json": {
       "model_id": "b9e9b1da4cf14c1097c330c903dff371",
       "version_major": 2,
       "version_minor": 0
      },
      "text/plain": [
       "  0%|          | 0/10 [00:00<?, ?it/s]"
      ]
     },
     "metadata": {},
     "output_type": "display_data"
    },
    {
     "name": "stdout",
     "output_type": "stream",
     "text": [
      "Train loss: 6.03516 | Train acc1: 0.00% | Train acc5: 0.00%\n"
     ]
    },
    {
     "data": {
      "application/vnd.jupyter.widget-view+json": {
       "model_id": "e6733c61c24f47b199da8fc66dab4a36",
       "version_major": 2,
       "version_minor": 0
      },
      "text/plain": [
       "  0%|          | 0/17 [00:00<?, ?it/s]"
      ]
     },
     "metadata": {},
     "output_type": "display_data"
    },
    {
     "name": "stdout",
     "output_type": "stream",
     "text": [
      "Test loss: 5.69688 | Test acc1: 0.00% | Test acc5: 0.00%\n",
      "\n",
      "\tEpoch: 1\n",
      "\n"
     ]
    },
    {
     "data": {
      "application/vnd.jupyter.widget-view+json": {
       "model_id": "8bac9feda8a74592a36b2abd3cbac841",
       "version_major": 2,
       "version_minor": 0
      },
      "text/plain": [
       "  0%|          | 0/10 [00:00<?, ?it/s]"
      ]
     },
     "metadata": {},
     "output_type": "display_data"
    },
    {
     "name": "stdout",
     "output_type": "stream",
     "text": [
      "Train loss: 5.94860 | Train acc1: 0.00% | Train acc5: 0.00%\n"
     ]
    },
    {
     "data": {
      "application/vnd.jupyter.widget-view+json": {
       "model_id": "d456a0d0657f483ab6599d019c189f1f",
       "version_major": 2,
       "version_minor": 0
      },
      "text/plain": [
       "  0%|          | 0/17 [00:00<?, ?it/s]"
      ]
     },
     "metadata": {},
     "output_type": "display_data"
    },
    {
     "name": "stdout",
     "output_type": "stream",
     "text": [
      "Test loss: 6.78369 | Test acc1: 0.00% | Test acc5: 0.00%\n",
      "Train time on cpu: 168.652 seconds\n"
     ]
    },
    {
     "data": {
      "image/png": "[encoded data removed]",
      "text/plain": [
       "<Figure size 640x480 with 2 Axes>"
      ]
     },
     "metadata": {},
     "output_type": "display_data"
    }
   ],
   "source": [
    "from timeit import default_timer as timer\n",
    "from tqdm.auto import tqdm\n",
    "from model.evaluation import train_step, test_step # use torchmetrics.utilities.data.select_topk\n",
    "from model.utilis import print_train_time, accuracy_top_k\n",
    "import matplotlib.pyplot as plt\n",
    "\n",
    "y_loss = {}  # loss history\n",
    "y_loss['train'] = []\n",
    "y_loss['val'] = []\n",
    "top5_rate = {}\n",
    "top5_rate['train'] = []\n",
    "top5_rate['val'] = []\n",
    "\n",
    "x_epoch = []\n",
    "\n",
    "fig = plt.figure()\n",
    "ax0 = fig.add_subplot(121, title=\"loss\")\n",
    "ax1 = fig.add_subplot(122, title=\"top1err\")\n",
    "\n",
    "def draw_curve(current_epoch):\n",
    "    x_epoch.append(current_epoch)\n",
    "    ax0.plot(x_epoch, y_loss['train'], 'bo-', label='train')\n",
    "    # ax0.plot(x_epoch, y_loss['val'], 'ro-', label='val')\n",
    "    ax1.plot(x_epoch, top5_rate['train'], 'bo-', label='train')\n",
    "    # ax1.plot(x_epoch, y_err['val'], 'ro-', label='val')\n",
    "    if current_epoch == 0:\n",
    "        ax0.legend()\n",
    "        ax1.legend()\n",
    "    #fig.savefig(os.path.join('./lossGraphs', 'train.jpg'))\n",
    "running_loss = 0.0\n",
    "running_corrects = 0.0\n",
    "\n",
    "train_time_start_on_cpu = timer()\n",
    "\n",
    "epochs = 2\n",
    "for epoch in tqdm(range(epochs)):\n",
    "    print(f'\\n\\tEpoch: {epoch}\\n')\n",
    "\n",
    "    (loss, top5) = train_step(model=model,\n",
    "               data_loader=train_dataloader,\n",
    "               loss_fn=loss_fn,\n",
    "               optimizer=optimizer,\n",
    "               accuracy_fn=accuracy_top_k,\n",
    "               device=device)\n",
    "    \n",
    "    # test_step(model=model,\n",
    "    #            data_loader=test_dataloader,\n",
    "    #            loss_fn=loss_fn,\n",
    "    #            accuracy_fn=accuracy_top_k,\n",
    "    #            device=device)\n",
    "    \n",
    "    y_loss[\"train\"].append(loss)\n",
    "    top5_rate[\"train\"].append(top5)\n",
    "    draw_curve(epoch)\n",
    "# Print time taken\n",
    "train_time_end_on_cpu = timer()\n",
    "total_train_time_model = print_train_time(train_time_start_on_cpu, train_time_end_on_cpu, str(next(model.parameters()).device))"
   ]
  },
  {
   "attachments": {},
   "cell_type": "markdown",
   "metadata": {},
   "source": [
    "### Training loop - For testing CPU and GPU (do not change)"
   ]
  },
  {
   "cell_type": "code",
   "execution_count": null,
   "metadata": {},
   "outputs": [],
   "source": [
    "from timeit import default_timer as timer\n",
    "from tqdm.auto import tqdm\n",
    "from model.evaluation import train_step_label, test_step_label # use torchmetrics.Accuracy()\n",
    "from model.utilis import print_train_time, accuracy_fn\n",
    "\n",
    "torch.manual_seed(42)\n",
    "train_time_start_on_cpu = timer()\n",
    "\n",
    "epochs = 3\n",
    "for epoch in tqdm(range(epochs)):\n",
    "    print(f'Epoch: {epoch}\\n')\n",
    "\n",
    "    train_step_label(model=model,\n",
    "               data_loader=MNIST_train_dataloader,\n",
    "               loss_fn=loss_fn,\n",
    "               optimizer=optimizer,\n",
    "               accuracy_fn=accuracy_fn,\n",
    "               device=device)\n",
    "    \n",
    "    test_step_label(model=model,\n",
    "               data_loader=MNIST_test_dataloader,\n",
    "               loss_fn=loss_fn,\n",
    "               accuracy_fn=accuracy_fn,\n",
    "               device=device)\n",
    "\n",
    "# Print time taken\n",
    "train_time_end_on_cpu = timer()\n",
    "total_train_time_model = print_train_time(train_time_start_on_cpu, train_time_end_on_cpu, str(next(model.parameters()).device))"
   ]
  },
  {
   "attachments": {},
   "cell_type": "markdown",
   "metadata": {},
   "source": [
    "### Calculate model results on test dataset"
   ]
  },
  {
   "cell_type": "code",
   "execution_count": null,
   "metadata": {},
   "outputs": [],
   "source": [
    "model_results = test_step(model=model,\n",
    "                           data_loader=test_dataloader,\n",
    "                           loss_fn=loss_fn,\n",
    "                           accuracy_fn=accuracy_top_k,\n",
    "                           device=device)\n",
    "\n",
    "model_results"
   ]
  }
 ],
 "metadata": {
  "kernelspec": {
   "display_name": "base",
   "language": "python",
   "name": "python3"
  },
  "language_info": {
   "codemirror_mode": {
    "name": "ipython",
    "version": 3
   },
   "file_extension": ".py",
   "mimetype": "text/x-python",
   "name": "python",
   "nbconvert_exporter": "python",
   "pygments_lexer": "ipython3",
   "version": "3.10.9"
  },
  "orig_nbformat": 4,
  "vscode": {
   "interpreter": {
    "hash": "55b8989436ef8cb3cc30e2a83b40c7e3f28eafa6710dc24cd20daba60ce811f6"
   }
  }
 },
 "nbformat": 4,
 "nbformat_minor": 2
}
