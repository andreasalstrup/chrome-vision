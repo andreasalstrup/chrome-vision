{
 "cells": [
  {
   "attachments": {},
   "cell_type": "markdown",
   "metadata": {},
   "source": [
    "# The dojo"
   ]
  },
  {
   "attachments": {},
   "cell_type": "markdown",
   "metadata": {},
   "source": [
    "## Setup training device"
   ]
  },
  {
   "cell_type": "code",
   "execution_count": 1,
   "metadata": {},
   "outputs": [
    {
     "name": "stdout",
     "output_type": "stream",
     "text": [
      "Fri Mar 24 12:02:01 2023       \n",
      "+---------------------------------------------------------------------------------------+\n",
      "| NVIDIA-SMI 531.29                 Driver Version: 531.29       CUDA Version: 12.1     |\n",
      "|-----------------------------------------+----------------------+----------------------+\n",
      "| GPU  Name                      TCC/WDDM | Bus-Id        Disp.A | Volatile Uncorr. ECC |\n",
      "| Fan  Temp  Perf            Pwr:Usage/Cap|         Memory-Usage | GPU-Util  Compute M. |\n",
      "|                                         |                      |               MIG M. |\n",
      "|=========================================+======================+======================|\n",
      "|   0  NVIDIA GeForce RTX 3080       WDDM | 00000000:01:00.0  On |                  N/A |\n",
      "| 53%   40C    P5               40W / 340W|   2652MiB / 10240MiB |     28%      Default |\n",
      "|                                         |                      |                  N/A |\n",
      "+-----------------------------------------+----------------------+----------------------+\n",
      "                                                                                         \n",
      "+---------------------------------------------------------------------------------------+\n",
      "| Processes:                                                                            |\n",
      "|  GPU   GI   CI        PID   Type   Process name                            GPU Memory |\n",
      "|        ID   ID                                                             Usage      |\n",
      "|=======================================================================================|\n",
      "|    0   N/A  N/A      1176    C+G   ...t.LockApp_cw5n1h2txyewy\\LockApp.exe    N/A      |\n",
      "|    0   N/A  N/A      2952    C+G   ...ir\\CORSAIR iCUE 4 Software\\iCUE.exe    N/A      |\n",
      "|    0   N/A  N/A      3932    C+G   ...siveControlPanel\\SystemSettings.exe    N/A      |\n",
      "|    0   N/A  N/A      5980    C+G   ...AIR iCUE 4 Software\\QmlRenderer.exe    N/A      |\n",
      "|    0   N/A  N/A      7504    C+G   ...5n1h2txyewy\\ShellExperienceHost.exe    N/A      |\n",
      "|    0   N/A  N/A     11336    C+G   ....Search_cw5n1h2txyewy\\SearchApp.exe    N/A      |\n",
      "|    0   N/A  N/A     14172    C+G   ...Programs\\Microsoft VS Code\\Code.exe    N/A      |\n",
      "|    0   N/A  N/A     18152    C+G   ...77.0_x86__zpdnekdrzrea0\\Spotify.exe    N/A      |\n",
      "|    0   N/A  N/A     20776    C+G   ...CBS_cw5n1h2txyewy\\TextInputHost.exe    N/A      |\n",
      "|    0   N/A  N/A     21104    C+G   ...Desktop\\app-3.2.0\\GitHubDesktop.exe    N/A      |\n",
      "|    0   N/A  N/A     21312    C+G   ....0_x64__8wekyb3d8bbwe\\HxOutlook.exe    N/A      |\n",
      "|    0   N/A  N/A     26916    C+G   ...on\\wallpaper_engine\\wallpaper64.exe    N/A      |\n",
      "|    0   N/A  N/A     39568    C+G   ...Data\\Local\\Programs\\Blitz\\Blitz.exe    N/A      |\n",
      "|    0   N/A  N/A     41380    C+G   ...al\\Discord\\app-1.0.9012\\Discord.exe    N/A      |\n",
      "|    0   N/A  N/A     41756    C+G   ...amsung Magician\\SamsungMagician.exe    N/A      |\n",
      "|    0   N/A  N/A     42544    C+G   C:\\Windows\\explorer.exe                   N/A      |\n",
      "|    0   N/A  N/A     42592    C+G   ...les (x86)\\Battle.net\\Battle.net.exe    N/A      |\n",
      "|    0   N/A  N/A     43404    C+G   ...tral\\CefSharp.BrowserSubprocess.exe    N/A      |\n",
      "|    0   N/A  N/A     46788    C+G   ...les (x86)\\Battle.net\\Battle.net.exe    N/A      |\n",
      "|    0   N/A  N/A     47760    C+G   ...on\\111.0.1661.44\\msedgewebview2.exe    N/A      |\n",
      "|    0   N/A  N/A     48500    C+G   ...GeForce Experience\\NVIDIA Share.exe    N/A      |\n",
      "|    0   N/A  N/A     49632    C+G   ...64__8wekyb3d8bbwe\\CalculatorApp.exe    N/A      |\n",
      "|    0   N/A  N/A     51148    C+G   ...ekyb3d8bbwe\\PhoneExperienceHost.exe    N/A      |\n",
      "|    0   N/A  N/A     55944    C+G   ...oogle\\Chrome\\Application\\chrome.exe    N/A      |\n",
      "+---------------------------------------------------------------------------------------+\n"
     ]
    }
   ],
   "source": [
    "!nvidia-smi"
   ]
  },
  {
   "cell_type": "code",
   "execution_count": 2,
   "metadata": {},
   "outputs": [
    {
     "name": "stdout",
     "output_type": "stream",
     "text": [
      "PyTorch version: 2.0.0+cu118\n",
      "torchvision version: 0.15.1+cu118\n",
      "Using device: cuda\n"
     ]
    }
   ],
   "source": [
    "import torch\n",
    "from torch import device, nn\n",
    "import torchvision\n",
    "import torchvision.io as io\n",
    "\n",
    "torch.manual_seed(42)\n",
    "\n",
    "print(f'PyTorch version: {torch.__version__}\\ntorchvision version: {torchvision.__version__}')\n",
    "\n",
    "device = \"cuda\" if torch.cuda.is_available() else \"cpu\"\n",
    "print(f'Using device: {device}')\n",
    "\n",
    "ok = io.read_image(\"data/E45Vejle_1011.jpg\")"
   ]
  },
  {
   "attachments": {},
   "cell_type": "markdown",
   "metadata": {},
   "source": [
    "## Data loading"
   ]
  },
  {
   "attachments": {},
   "cell_type": "markdown",
   "metadata": {},
   "source": [
    "### Using chromecut to prepare datasets"
   ]
  },
  {
   "cell_type": "code",
   "execution_count": 3,
   "metadata": {},
   "outputs": [],
   "source": [
    "from dataset import chromeCutter\n",
    "\n",
    "chromeCutter(\"data/leftImg8bit/indices/trainIndex/bremen.csv\",\"data/leftImg8bit/train/bremen/\", \"bremenCut\", \"train\")\n",
    "chromeCutter(\"data/leftImg8bit/indices/testIndex/berlin.csv\",\"data/leftImg8bit/test/berlin/\", \"berlinCut\", \"test\")\n",
    "\n"
   ]
  },
  {
   "attachments": {},
   "cell_type": "markdown",
   "metadata": {},
   "source": [
    "### Custom dataset"
   ]
  },
  {
   "cell_type": "code",
   "execution_count": 4,
   "metadata": {},
   "outputs": [],
   "source": [
    "from torchvision import transforms\n",
    "\n",
    "train_transforms = transforms.Compose([\n",
    "    transforms.ToPILImage(),\n",
    "    transforms.Resize((64, 64)),\n",
    "    transforms.TrivialAugmentWide(num_magnitude_bins=31),\n",
    "    transforms.ToTensor()\n",
    "])\n",
    "\n",
    "test_transforms = transforms.Compose([\n",
    "    transforms.ToPILImage(),\n",
    "    transforms.Resize((64, 64)),\n",
    "    transforms.ToTensor()\n",
    "])"
   ]
  },
  {
   "cell_type": "code",
   "execution_count": 5,
   "metadata": {},
   "outputs": [
    {
     "name": "stdout",
     "output_type": "stream",
     "text": [
      "Len of train dataloader: 93 batches of 32\n",
      "Len of test dataloader: 230 batches of 32\n"
     ]
    }
   ],
   "source": [
    "from torch.utils.data import DataLoader\n",
    "from dataset import CustomImageDataset\n",
    "from torchvision import transforms\n",
    "\n",
    "train_data = CustomImageDataset(\"data/leftImg8bit/indices/trainIndex/bremenCut.csv\",\"data/leftImg8bit/train/cut/bremenCut\", transform=train_transforms)\n",
    "test_data = CustomImageDataset(\"data/leftImg8bit/indices/testIndex/berlinCut.csv\",\"data/leftImg8bit/test/cut/berlinCut\", transform=train_transforms)\n",
    "\n",
    "BATCH_SIZE = 32\n",
    "\n",
    "train_dataloader = DataLoader(train_data,\n",
    "                              batch_size=BATCH_SIZE,\n",
    "                              shuffle=True)\n",
    "\n",
    "test_dataloader = DataLoader(test_data,\n",
    "                             batch_size=BATCH_SIZE,\n",
    "                             shuffle=False)\n",
    "\n",
    "print(f'Len of train dataloader: {len(train_dataloader)} batches of {BATCH_SIZE}')\n",
    "print(f'Len of test dataloader: {len(test_dataloader)} batches of {BATCH_SIZE}')"
   ]
  },
  {
   "attachments": {},
   "cell_type": "markdown",
   "metadata": {},
   "source": [
    "##### Check out what's inside the training dataloader"
   ]
  },
  {
   "cell_type": "code",
   "execution_count": 6,
   "metadata": {},
   "outputs": [
    {
     "name": "stdout",
     "output_type": "stream",
     "text": [
      "Train features shape: torch.Size([32, 3, 64, 64])\n"
     ]
    }
   ],
   "source": [
    "train_features_batch = next(iter(train_dataloader))\n",
    "\n",
    "print(F\"Train features shape: {train_features_batch.shape}\")"
   ]
  },
  {
   "attachments": {},
   "cell_type": "markdown",
   "metadata": {},
   "source": [
    "## Model"
   ]
  },
  {
   "attachments": {},
   "cell_type": "markdown",
   "metadata": {},
   "source": [
    "### Create a flatten layer - Testing Flatten()"
   ]
  },
  {
   "cell_type": "code",
   "execution_count": 7,
   "metadata": {},
   "outputs": [
    {
     "name": "stdout",
     "output_type": "stream",
     "text": [
      "Shape before flattening: torch.Size([3, 64, 64])\n",
      "Shape after flattening: torch.Size([3, 4096])\n"
     ]
    }
   ],
   "source": [
    "flatten_model = nn.Flatten()\n",
    "\n",
    "x = train_features_batch[0]\n",
    "print(f'Shape before flattening: {x.shape}')     # torch.Size([3, 1024, 2048])\n",
    "\n",
    "output = flatten_model(x)\n",
    "print(f'Shape after flattening: {output.shape}') # torch.Size([3, 2097152])"
   ]
  },
  {
   "attachments": {},
   "cell_type": "markdown",
   "metadata": {},
   "source": [
    "#### MoCo"
   ]
  },
  {
   "cell_type": "code",
   "execution_count": 8,
   "metadata": {},
   "outputs": [],
   "source": [
    "from model.chrome_vision import ChromeCut\n",
    "from model.encoder import ResNet50\n",
    "import torch.nn as nn\n",
    "import torchvision.models as models\n",
    "from torchvision.models import ResNet50_Weights\n",
    "\n",
    "encoder = models.resnet50(weights=ResNet50_Weights.DEFAULT)\n",
    "\n",
    "IN_FEATURES = encoder.fc.in_features = 2048 # 2097152\n",
    "OUT_FEATURES = encoder.fc.out_features = 10\n",
    "encoder.fc = nn.Linear(IN_FEATURES, OUT_FEATURES)\n",
    "\n",
    "model = ChromeCut(base_encoder=encoder,\n",
    "                  feature_dim=OUT_FEATURES,\n",
    "                  queue_size=65000,\n",
    "                  momentum=0.9,\n",
    "                  softmax_temp=0.07,\n",
    "                  mlp=True).to(device)"
   ]
  },
  {
   "attachments": {},
   "cell_type": "markdown",
   "metadata": {},
   "source": [
    "### Setup loss function and optimizer"
   ]
  },
  {
   "cell_type": "code",
   "execution_count": 9,
   "metadata": {},
   "outputs": [],
   "source": [
    "loss_fn = nn.CrossEntropyLoss()\n",
    "\n",
    "# lr smaller than 0.001\n",
    "optimizer = torch.optim.Adam(params=model.parameters(), lr=0.001, betas=(0.9, 0.999), eps=1e-08, weight_decay=1e-5)"
   ]
  },
  {
   "attachments": {},
   "cell_type": "markdown",
   "metadata": {},
   "source": [
    "### Training loop - MoCo"
   ]
  },
  {
   "cell_type": "code",
   "execution_count": 11,
   "metadata": {},
   "outputs": [
    {
     "data": {
      "application/vnd.jupyter.widget-view+json": {
       "model_id": "4c3a07fb8aac4f5f920cfbdf57743338",
       "version_major": 2,
       "version_minor": 0
      },
      "text/plain": [
       "  0%|          | 0/7 [00:00<?, ?it/s]"
      ]
     },
     "metadata": {},
     "output_type": "display_data"
    },
    {
     "name": "stdout",
     "output_type": "stream",
     "text": [
      "\n",
      "\tEpoch: 0\n",
      "\n"
     ]
    },
    {
     "data": {
      "application/vnd.jupyter.widget-view+json": {
       "model_id": "64211d0972ab4abe9797441ca56f329e",
       "version_major": 2,
       "version_minor": 0
      },
      "text/plain": [
       "  0%|          | 0/93 [00:00<?, ?it/s]"
      ]
     },
     "metadata": {},
     "output_type": "display_data"
    },
    {
     "name": "stdout",
     "output_type": "stream",
     "text": [
      "Train loss: 8.16184 | Train acc1: 0.00% | Train acc5: 1.08%\n",
      "\n",
      "\tEpoch: 1\n",
      "\n"
     ]
    },
    {
     "data": {
      "application/vnd.jupyter.widget-view+json": {
       "model_id": "0c2a8e867b6f4bb2b8788c3e10a303a0",
       "version_major": 2,
       "version_minor": 0
      },
      "text/plain": [
       "  0%|          | 0/93 [00:00<?, ?it/s]"
      ]
     },
     "metadata": {},
     "output_type": "display_data"
    },
    {
     "name": "stdout",
     "output_type": "stream",
     "text": [
      "Train loss: 7.85812 | Train acc1: 0.00% | Train acc5: 1.08%\n",
      "\n",
      "\tEpoch: 2\n",
      "\n"
     ]
    },
    {
     "data": {
      "application/vnd.jupyter.widget-view+json": {
       "model_id": "9eb43f752ee34c3cb01ad8a8eeff15fe",
       "version_major": 2,
       "version_minor": 0
      },
      "text/plain": [
       "  0%|          | 0/93 [00:00<?, ?it/s]"
      ]
     },
     "metadata": {},
     "output_type": "display_data"
    },
    {
     "name": "stdout",
     "output_type": "stream",
     "text": [
      "Train loss: 8.05786 | Train acc1: 0.00% | Train acc5: 0.00%\n",
      "\n",
      "\tEpoch: 3\n",
      "\n"
     ]
    },
    {
     "data": {
      "application/vnd.jupyter.widget-view+json": {
       "model_id": "df51a73147ef40448a352f24e37103fa",
       "version_major": 2,
       "version_minor": 0
      },
      "text/plain": [
       "  0%|          | 0/93 [00:00<?, ?it/s]"
      ]
     },
     "metadata": {},
     "output_type": "display_data"
    },
    {
     "name": "stdout",
     "output_type": "stream",
     "text": [
      "Train loss: 8.26152 | Train acc1: 0.00% | Train acc5: 1.08%\n",
      "\n",
      "\tEpoch: 4\n",
      "\n"
     ]
    },
    {
     "data": {
      "application/vnd.jupyter.widget-view+json": {
       "model_id": "3eb52e31e3c345f0b8a97309325a17c9",
       "version_major": 2,
       "version_minor": 0
      },
      "text/plain": [
       "  0%|          | 0/93 [00:00<?, ?it/s]"
      ]
     },
     "metadata": {},
     "output_type": "display_data"
    },
    {
     "name": "stdout",
     "output_type": "stream",
     "text": [
      "Train loss: 8.07406 | Train acc1: 0.00% | Train acc5: 0.00%\n",
      "\n",
      "\tEpoch: 5\n",
      "\n"
     ]
    },
    {
     "data": {
      "application/vnd.jupyter.widget-view+json": {
       "model_id": "1e07ef0a66b44db1968ebd76f7fcc0aa",
       "version_major": 2,
       "version_minor": 0
      },
      "text/plain": [
       "  0%|          | 0/93 [00:00<?, ?it/s]"
      ]
     },
     "metadata": {},
     "output_type": "display_data"
    },
    {
     "name": "stdout",
     "output_type": "stream",
     "text": [
      "Train loss: 8.21066 | Train acc1: 0.00% | Train acc5: 0.00%\n",
      "\n",
      "\tEpoch: 6\n",
      "\n"
     ]
    },
    {
     "data": {
      "application/vnd.jupyter.widget-view+json": {
       "model_id": "75d39dc0fea148b8b49e564b7881487c",
       "version_major": 2,
       "version_minor": 0
      },
      "text/plain": [
       "  0%|          | 0/93 [00:00<?, ?it/s]"
      ]
     },
     "metadata": {},
     "output_type": "display_data"
    },
    {
     "name": "stdout",
     "output_type": "stream",
     "text": [
      "Train loss: 8.24928 | Train acc1: 0.00% | Train acc5: 0.00%\n",
      "Train time on cuda:0: 58.025 seconds\n"
     ]
    },
    {
     "data": {
      "image/png": "[encoded data removed]",
      "text/plain": [
       "<Figure size 640x480 with 2 Axes>"
      ]
     },
     "metadata": {},
     "output_type": "display_data"
    }
   ],
   "source": [
    "from timeit import default_timer as timer\n",
    "from tqdm.auto import tqdm\n",
    "from model.evaluation import train_step, test_step # use torchmetrics.utilities.data.select_topk\n",
    "from model.utilis import print_train_time, accuracy_top_k\n",
    "import matplotlib.pyplot as plt\n",
    "import os\n",
    "import cv2\n",
    "\n",
    "y_loss = {}  # loss history\n",
    "y_loss['train'] = []\n",
    "y_loss['val'] = []\n",
    "top5_rate = {}\n",
    "top5_rate['train'] = []\n",
    "top5_rate['val'] = []\n",
    "\n",
    "x_epoch = []\n",
    "\n",
    "fig = plt.figure()\n",
    "ax0 = fig.add_subplot(121, title=\"Loss\")\n",
    "ax1 = fig.add_subplot(122, title=\"Top 5 accuracy\")\n",
    "\n",
    "def draw_curve(current_epoch):\n",
    "    x_epoch.append(current_epoch)\n",
    "    ax0.plot(x_epoch, torch.Tensor(y_loss['train']), 'bo-', label='train')\n",
    "    # ax0.plot(x_epoch, y_loss['val'], 'ro-', label='val')\n",
    "    ax1.plot(x_epoch, top5_rate['train'], 'bo-', label='train')\n",
    "    # ax1.plot(x_epoch, y_err['val'], 'ro-', label='val')\n",
    "    if current_epoch == 0:\n",
    "        ax0.legend()\n",
    "        ax1.legend()\n",
    "    fig.savefig(os.path.join('./lossGraphs', 'train.jpg'))\n",
    "running_loss = 0.0\n",
    "running_corrects = 0.0\n",
    "\n",
    "train_time_start_on_cpu = timer()\n",
    "\n",
    "epochs = 7\n",
    "for epoch in tqdm(range(epochs)):\n",
    "    print(f'\\n\\tEpoch: {epoch}\\n')\n",
    "\n",
    "    (loss, top5) = train_step(model=model,\n",
    "               data_loader=train_dataloader,\n",
    "               loss_fn=loss_fn,\n",
    "               optimizer=optimizer,\n",
    "               accuracy_fn=accuracy_top_k,\n",
    "               device=device)\n",
    "    # test_step(model=model,\n",
    "    #            data_loader=test_dataloader,\n",
    "    #            loss_fn=loss_fn,\n",
    "    #            accuracy_fn=accuracy_top_k,\n",
    "    #            device=device)    \n",
    "    y_loss[\"train\"].append(loss)\n",
    "    top5_rate[\"train\"].append(top5)\n",
    "    draw_curve(epoch)\n",
    "# Print time taken\n",
    "if epoch > 5:\n",
    "    img = cv2.imread('lossGraphs/train.jpg')\n",
    "    cv2.imshow(\"Loss and accuracy\", img)\n",
    "    cv2.setWindowProperty(\"Loss and accuracy\", cv2.WND_PROP_TOPMOST, 1) #Forces window on top\n",
    "    cv2.waitKey(0)\n",
    "    cv2.destroyAllWindows()\n",
    "train_time_end_on_cpu = timer()\n",
    "total_train_time_model = print_train_time(train_time_start_on_cpu, train_time_end_on_cpu, str(next(model.parameters()).device))"
   ]
  },
  {
   "attachments": {},
   "cell_type": "markdown",
   "metadata": {},
   "source": [
    "### Training loop - For testing CPU and GPU (do not change)"
   ]
  },
  {
   "attachments": {},
   "cell_type": "markdown",
   "metadata": {},
   "source": [
    "### Calculate model results on test dataset"
   ]
  },
  {
   "cell_type": "code",
   "execution_count": null,
   "metadata": {},
   "outputs": [],
   "source": [
    "model_results = test_step(model=model,\n",
    "                           data_loader=test_dataloader,\n",
    "                           loss_fn=loss_fn,\n",
    "                           accuracy_fn=accuracy_top_k,\n",
    "                           device=device)\n",
    "\n",
    "model_results"
   ]
  }
 ],
 "metadata": {
  "kernelspec": {
   "display_name": "base",
   "language": "python",
   "name": "python3"
  },
  "language_info": {
   "codemirror_mode": {
    "name": "ipython",
    "version": 3
   },
   "file_extension": ".py",
   "mimetype": "text/x-python",
   "name": "python",
   "nbconvert_exporter": "python",
   "pygments_lexer": "ipython3",
   "version": "3.10.9"
  },
  "orig_nbformat": 4,
  "vscode": {
   "interpreter": {
    "hash": "55b8989436ef8cb3cc30e2a83b40c7e3f28eafa6710dc24cd20daba60ce811f6"
   }
  }
 },
 "nbformat": 4,
 "nbformat_minor": 2
}
