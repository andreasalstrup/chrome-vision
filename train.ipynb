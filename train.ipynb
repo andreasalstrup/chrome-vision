{
 "cells": [
  {
   "attachments": {},
   "cell_type": "markdown",
   "metadata": {},
   "source": [
    "# The dojo"
   ]
  },
  {
   "attachments": {},
   "cell_type": "markdown",
   "metadata": {},
   "source": [
    "## Setup training device"
   ]
  },
  {
   "cell_type": "code",
   "execution_count": null,
   "metadata": {},
   "outputs": [],
   "source": [
    "# !git init\n",
    "# !git remote add origin https://github.com/andreasalstrup/chrome-vision.git\n",
    "# !git pull origin <branch>\n",
    "# !git reset --hard FETCH_HEAD"
   ]
  },
  {
   "cell_type": "code",
   "execution_count": null,
   "metadata": {},
   "outputs": [],
   "source": [
    "!nvidia-smi"
   ]
  },
  {
   "cell_type": "code",
   "execution_count": null,
   "metadata": {},
   "outputs": [],
   "source": [
    "import torch\n",
    "from torch import device, nn\n",
    "import torchvision\n",
    "import torchvision.io as io\n",
    "\n",
    "torch.manual_seed(42)\n",
    "\n",
    "print(f'PyTorch version: {torch.__version__}\\ntorchvision version: {torchvision.__version__}')\n",
    "\n",
    "device = \"cuda\" if torch.cuda.is_available() else \"cpu\"\n",
    "print(f'Using device: {device}')\n",
    "\n",
    "ok = io.read_image(\"data/E45Vejle_1011.jpg\")"
   ]
  },
  {
   "attachments": {},
   "cell_type": "markdown",
   "metadata": {},
   "source": [
    "# Hyperparameters"
   ]
  },
  {
   "cell_type": "code",
   "execution_count": null,
   "metadata": {},
   "outputs": [],
   "source": [
    "import torchvision.models as models\n",
    "\n",
    "# Data loading\n",
    "BATCH_SIZE = 32\n",
    "IMAGE_RESIZE = 64\n",
    "\n",
    "# Model\n",
    "OUT_FEATURES = 128\n",
    "QUEUE_SIZE = 65536\n",
    "MOMENTUM = 0.9\n",
    "SOFTMAX_TEMP = 0.07\n",
    "\n",
    "# Encoder\n",
    "ENCODER = models.resnet50\n",
    "\n",
    "# Optimizer\n",
    "OPTIMIZER = torch.optim.Adam\n",
    "LEARNING_RATE = 0.001\n",
    "BETAS = (0.9, 0.999)\n",
    "EPS = 1e-08\n",
    "WEIGHT_DECAY = 1e-5\n",
    "\n",
    "# Loss function\n",
    "LOSS_FN = nn.CrossEntropyLoss()\n",
    "\n",
    "# Training loop\n",
    "EPOCHS = 200"
   ]
  },
  {
   "attachments": {},
   "cell_type": "markdown",
   "metadata": {},
   "source": [
    "## Data loading"
   ]
  },
  {
   "attachments": {},
   "cell_type": "markdown",
   "metadata": {},
   "source": [
    "### Combine train data"
   ]
  },
  {
   "cell_type": "code",
   "execution_count": null,
   "metadata": {},
   "outputs": [],
   "source": [
    "from utils.merge_dir import MergeDir\n",
    "\n",
    "src_dir = 'data/leftImg8bit/train'\n",
    "dst_dir = 'data/leftImg8bit/train_combined'\n",
    "dst_index = 'data/leftImg8bit/indices/trainIndex/combined.csv'\n",
    "\n",
    "MergeDir(src_dir, dst_dir, dst_index)"
   ]
  },
  {
   "attachments": {},
   "cell_type": "markdown",
   "metadata": {},
   "source": [
    "### Using chromecut to prepare datasets"
   ]
  },
  {
   "cell_type": "code",
   "execution_count": null,
   "metadata": {},
   "outputs": [],
   "source": [
    "from dataset import chromeCutter\n",
    "\n",
    "chromeCutter(\"data/leftImg8bit/indices/trainIndex/combined.csv\",\"data/leftImg8bit/train_combined/\", \"combinedCut\", \"train\")\n",
    "#chromeCutter(\"data/leftImg8bit/indices/trainIndex/bremen.csv\",\"data/leftImg8bit/train/bremen/\", \"bremenCut\", \"train\")\n",
    "#chromeCutter(\"data/leftImg8bit/indices/testIndex/berlin.csv\",\"data/leftImg8bit/test/berlin/\", \"berlinCut\", \"test\")"
   ]
  },
  {
   "attachments": {},
   "cell_type": "markdown",
   "metadata": {},
   "source": [
    "### Custom dataset"
   ]
  },
  {
   "cell_type": "code",
   "execution_count": null,
   "metadata": {},
   "outputs": [],
   "source": [
    "from torchvision import transforms\n",
    "from utils.transforms import ContrastiveTransform\n",
    "\n",
    "transform_MoCoV1 = ContrastiveTransform(\n",
    "                        transforms.Compose([\n",
    "                            transforms.ToPILImage(),\n",
    "                            transforms.Resize((IMAGE_RESIZE, IMAGE_RESIZE)),\n",
    "                            transforms.RandomResizedCrop(IMAGE_RESIZE, scale=(0.2, 1.0)), # 224 -> 64 \n",
    "                            transforms.RandomGrayscale(p=0.2),\n",
    "                            transforms.ColorJitter(0.4, 0.4, 0.4, 0.4),\n",
    "                            transforms.RandomHorizontalFlip(),\n",
    "                            transforms.ToTensor(),\n",
    "                            transforms.Normalize(mean=[0.485, 0.456, 0.406], std=[0.229, 0.224, 0.225]),\n",
    "                            ])\n",
    "                        )"
   ]
  },
  {
   "cell_type": "code",
   "execution_count": null,
   "metadata": {},
   "outputs": [],
   "source": [
    "from torch.utils.data import DataLoader\n",
    "from dataset import CustomImageDataset\n",
    "\n",
    "train_data = CustomImageDataset(\"data/leftImg8bit/indices/trainIndex/combinedCut.csv\",\"data/leftImg8bit/train/cut/combinedCut\", transform=transform_MoCoV1)\n",
    "#train_data = CustomImageDataset(\"data/leftImg8bit/indices/trainIndex/bremenCut.csv\",\"data/leftImg8bit/train/cut/bremenCut\", transform=transform_MoCoV1)\n",
    "#test_data = CustomImageDataset(\"data/leftImg8bit/indices/testIndex/berlinCut.csv\",\"data/leftImg8bit/test/cut/berlinCut\", transform=ContrastiveTransform(transform_MoCoV1))\n",
    "\n",
    "train_dataloader = DataLoader(train_data,\n",
    "                              batch_size=BATCH_SIZE,\n",
    "                              shuffle=True,\n",
    "                              drop_last=True)\n",
    "\n",
    "test_dataloader = DataLoader(train_data,\n",
    "                             batch_size=BATCH_SIZE,\n",
    "                             shuffle=False)\n",
    "\n",
    "print(f'Len of train dataloader: {len(train_dataloader)} batches of {BATCH_SIZE}')\n",
    "print(f'Len of test dataloader: {len(test_dataloader)} batches of {BATCH_SIZE}')"
   ]
  },
  {
   "attachments": {},
   "cell_type": "markdown",
   "metadata": {},
   "source": [
    "##### Check out what's inside the training dataloader"
   ]
  },
  {
   "cell_type": "code",
   "execution_count": null,
   "metadata": {},
   "outputs": [],
   "source": [
    "train_features_batch = next(iter(train_dataloader))\n",
    "\n",
    "print(F\"Train features query_image shape: {train_features_batch[0].shape}\")\n",
    "print(F\"Train features key_image shape: {train_features_batch[1].shape}\")"
   ]
  },
  {
   "attachments": {},
   "cell_type": "markdown",
   "metadata": {},
   "source": [
    "## Model"
   ]
  },
  {
   "attachments": {},
   "cell_type": "markdown",
   "metadata": {},
   "source": [
    "#### MoCo"
   ]
  },
  {
   "cell_type": "code",
   "execution_count": null,
   "metadata": {},
   "outputs": [],
   "source": [
    "from model.chrome_vision import ChromeMoCo\n",
    "\n",
    "model = ChromeMoCo(base_encoder=ENCODER,\n",
    "                  feature_dim=OUT_FEATURES,\n",
    "                  queue_size=QUEUE_SIZE,\n",
    "                  momentum=MOMENTUM,\n",
    "                  softmax_temp=SOFTMAX_TEMP).to(device)\n",
    "\n",
    "optimizer = OPTIMIZER(params=model.parameters(), lr=LEARNING_RATE, betas=BETAS, eps=EPS, weight_decay=WEIGHT_DECAY)"
   ]
  },
  {
   "attachments": {},
   "cell_type": "markdown",
   "metadata": {},
   "source": [
    "### Training loop - MoCo"
   ]
  },
  {
   "cell_type": "code",
   "execution_count": null,
   "metadata": {},
   "outputs": [],
   "source": [
    "import os, os.path as path\n",
    "from timeit import default_timer as timer\n",
    "from tqdm.auto import tqdm\n",
    "from model.evaluation import train_step, test_step # use torchmetrics.utilities.data.select_topk\n",
    "from model.utilis import print_train_time, accuracy_top_k, saveModel, saveCheckpoint, loadCheckpoint\n",
    "from utils.show_training import ShowTraining\n",
    "\n",
    "showTraining = ShowTraining()\n",
    "time_start = timer()\n",
    "\n",
    "checkpoint_epoch = -1\n",
    "CHECKPOINT = 'model/models/checkpoint.pt'\n",
    "CHECKPOINT_BACKUP = 'model/models/checkpoint_backup.pt'\n",
    "\n",
    "if path.exists(CHECKPOINT):\n",
    "    (model, optimizer, checkpoint_epoch, showTraining, train_dataloader) = loadCheckpoint(CHECKPOINT, model, optimizer)\n",
    "\n",
    "for epoch in tqdm(range(EPOCHS)):\n",
    "    if epoch <= checkpoint_epoch:\n",
    "        continue\n",
    "    \n",
    "    saveCheckpoint(CHECKPOINT_BACKUP, model, optimizer, epoch - 1, showTraining, train_dataloader)\n",
    "    \n",
    "    print(f'\\n\\tEpoch: {epoch}\\n')\n",
    "\n",
    "    (loss, top1, top5) = train_step(model=model,\n",
    "                                    data_loader=train_dataloader,\n",
    "                                    loss_fn=LOSS_FN,\n",
    "                                    optimizer=optimizer,\n",
    "                                    accuracy_fn=accuracy_top_k,\n",
    "                                    device=device)\n",
    "    \n",
    "    # test_step(model=model,\n",
    "    #            data_loader=test_dataloader,\n",
    "    #            loss_fn=loss_fn,\n",
    "    #            accuracy_fn=accuracy_top_k,\n",
    "    #            device=device)\n",
    "    \n",
    "    showTraining.appendData(loss, top1, top5)\n",
    "    showTraining.draw_curve(epoch)\n",
    "    saveCheckpoint(CHECKPOINT, model, optimizer, epoch, showTraining, train_dataloader)\n",
    "\n",
    "NAME = f\"{model.__class__.__name__}_BatchSize{BATCH_SIZE}_LR{LEARNING_RATE}_ImageSize{IMAGE_RESIZE}_Epochs{EPOCHS}\"\n",
    "saveModel(\"model/models\", f\"{NAME}.pt\", model)\n",
    "showTraining.saveFig(f\"model/models/{NAME}.png\")\n",
    "\n",
    "if path.exists(CHECKPOINT):\n",
    "    os.remove(CHECKPOINT)\n",
    "    os.remove(CHECKPOINT_BACKUP)\n",
    "\n",
    "# Print time taken\n",
    "time_end = timer()\n",
    "total_train = print_train_time(time_start, time_end, str(next(model.parameters()).device))"
   ]
  },
  {
   "attachments": {},
   "cell_type": "markdown",
   "metadata": {},
   "source": [
    "### Calculate model results on test dataset"
   ]
  },
  {
   "cell_type": "code",
   "execution_count": null,
   "metadata": {},
   "outputs": [],
   "source": [
    "model_results = test_step(model=model,\n",
    "                           data_loader=test_dataloader,\n",
    "                           loss_fn=LOSS_FN,\n",
    "                           accuracy_fn=accuracy_top_k,\n",
    "                           device=device)\n",
    "\n",
    "model_results"
   ]
  }
 ],
 "metadata": {
  "kernelspec": {
   "display_name": "cv",
   "language": "python",
   "name": "python3"
  },
  "language_info": {
   "codemirror_mode": {
    "name": "ipython",
    "version": 3
   },
   "file_extension": ".py",
   "mimetype": "text/x-python",
   "name": "python",
   "nbconvert_exporter": "python",
   "pygments_lexer": "ipython3",
   "version": "3.10.9"
  },
  "orig_nbformat": 4,
  "vscode": {
   "interpreter": {
    "hash": "cdee88149f4004f59d167e75922e2e1ea21de61282f589a56d29b1d4be1fed0d"
   }
  }
 },
 "nbformat": 4,
 "nbformat_minor": 2
}
