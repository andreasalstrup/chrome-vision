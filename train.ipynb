{
 "cells": [
  {
   "attachments": {},
   "cell_type": "markdown",
   "metadata": {},
   "source": [
    "# The dojo"
   ]
  },
  {
   "attachments": {},
   "cell_type": "markdown",
   "metadata": {},
   "source": [
    "## Setup training device"
   ]
  },
  {
   "cell_type": "code",
   "execution_count": null,
   "metadata": {},
   "outputs": [],
   "source": [
    "!nvidia-smi"
   ]
  },
  {
   "cell_type": "code",
   "execution_count": null,
   "metadata": {},
   "outputs": [],
   "source": [
    "import torch\n",
    "from torch import device, nn\n",
    "import torchvision\n",
    "import torchvision.io as io\n",
    "\n",
    "torch.manual_seed(42)\n",
    "\n",
    "print(f'PyTorch version: {torch.__version__}\\ntorchvision version: {torchvision.__version__}')\n",
    "\n",
    "device = \"cuda\" if torch.cuda.is_available() else \"cpu\"\n",
    "print(f'Using device: {device}')\n",
    "\n",
    "ok = io.read_image(\"data/E45Vejle_1011.jpg\")"
   ]
  },
  {
   "attachments": {},
   "cell_type": "markdown",
   "metadata": {},
   "source": [
    "## Data loading"
   ]
  },
  {
   "attachments": {},
   "cell_type": "markdown",
   "metadata": {},
   "source": [
    "### Using chromecut to prepare datasets"
   ]
  },
  {
   "cell_type": "code",
   "execution_count": null,
   "metadata": {},
   "outputs": [],
   "source": [
    "from dataset import chromeCutter\n",
    "\n",
    "chromeCutter(\"data/leftImg8bit/indices/trainIndex/bremen.csv\",\"data/leftImg8bit/train/bremen/\", \"bremenCut\", \"train\")\n",
    "chromeCutter(\"data/leftImg8bit/indices/testIndex/berlin.csv\",\"data/leftImg8bit/test/berlin/\", \"berlinCut\", \"test\")\n",
    "\n"
   ]
  },
  {
   "attachments": {},
   "cell_type": "markdown",
   "metadata": {},
   "source": [
    "### Custom dataset"
   ]
  },
  {
   "cell_type": "code",
   "execution_count": null,
   "metadata": {},
   "outputs": [],
   "source": [
    "from torchvision import transforms\n",
    "\n",
    "train_transforms = transforms.Compose([\n",
    "    transforms.ToPILImage(),\n",
    "    transforms.Resize((64, 64)),\n",
    "    transforms.TrivialAugmentWide(num_magnitude_bins=31),\n",
    "    transforms.ToTensor()\n",
    "])\n",
    "\n",
    "test_transforms = transforms.Compose([\n",
    "    transforms.ToPILImage(),\n",
    "    transforms.Resize((64, 64)),\n",
    "    transforms.ToTensor()\n",
    "])"
   ]
  },
  {
   "cell_type": "code",
   "execution_count": null,
   "metadata": {},
   "outputs": [],
   "source": [
    "from torch.utils.data import DataLoader\n",
    "from dataset import CustomImageDataset\n",
    "from torchvision import transforms\n",
    "\n",
    "train_data = CustomImageDataset(\"data/leftImg8bit/indices/trainIndex/bremenCut.csv\",\"data/leftImg8bit/train/cut/bremenCut\", transform=train_transforms)\n",
    "test_data = CustomImageDataset(\"data/leftImg8bit/indices/testIndex/berlinCut.csv\",\"data/leftImg8bit/test/cut/berlinCut\", transform=train_transforms)\n",
    "\n",
    "BATCH_SIZE = 32\n",
    "\n",
    "train_dataloader = DataLoader(train_data,\n",
    "                              batch_size=BATCH_SIZE,\n",
    "                              shuffle=True)\n",
    "\n",
    "test_dataloader = DataLoader(test_data,\n",
    "                             batch_size=BATCH_SIZE,\n",
    "                             shuffle=False)\n",
    "\n",
    "print(f'Len of train dataloader: {len(train_dataloader)} batches of {BATCH_SIZE}')\n",
    "print(f'Len of test dataloader: {len(test_dataloader)} batches of {BATCH_SIZE}')"
   ]
  },
  {
   "attachments": {},
   "cell_type": "markdown",
   "metadata": {},
   "source": [
    "##### Check out what's inside the training dataloader"
   ]
  },
  {
   "cell_type": "code",
   "execution_count": null,
   "metadata": {},
   "outputs": [],
   "source": [
    "train_features_batch = next(iter(train_dataloader))\n",
    "\n",
    "print(F\"Train features shape: {train_features_batch.shape}\")"
   ]
  },
  {
   "attachments": {},
   "cell_type": "markdown",
   "metadata": {},
   "source": [
    "## Model"
   ]
  },
  {
   "attachments": {},
   "cell_type": "markdown",
   "metadata": {},
   "source": [
    "### Create a flatten layer - Testing Flatten()"
   ]
  },
  {
   "cell_type": "code",
   "execution_count": null,
   "metadata": {},
   "outputs": [],
   "source": [
    "flatten_model = nn.Flatten()\n",
    "\n",
    "x = train_features_batch[0]\n",
    "print(f'Shape before flattening: {x.shape}')     # torch.Size([3, 1024, 2048])\n",
    "\n",
    "output = flatten_model(x)\n",
    "print(f'Shape after flattening: {output.shape}') # torch.Size([3, 2097152])"
   ]
  },
  {
   "attachments": {},
   "cell_type": "markdown",
   "metadata": {},
   "source": [
    "#### MoCo"
   ]
  },
  {
   "cell_type": "code",
   "execution_count": null,
   "metadata": {},
   "outputs": [],
   "source": [
    "from model.chrome_vision import ChromeCut\n",
    "from model.encoder import ResNet50\n",
    "import torch.nn as nn\n",
    "import torchvision.models as models\n",
    "from torchvision.models import ResNet50_Weights\n",
    "\n",
    "encoder = models.resnet50(weights=ResNet50_Weights.DEFAULT)\n",
    "\n",
    "IN_FEATURES = encoder.fc.in_features = 2048 # 2097152\n",
    "OUT_FEATURES = encoder.fc.out_features = 10\n",
    "encoder.fc = nn.Linear(IN_FEATURES, OUT_FEATURES)\n",
    "\n",
    "model = ChromeCut(base_encoder=encoder,\n",
    "                  feature_dim=OUT_FEATURES,\n",
    "                  queue_size=65000,\n",
    "                  momentum=0.9,\n",
    "                  softmax_temp=0.07,\n",
    "                  mlp=True).to(device)"
   ]
  },
  {
   "attachments": {},
   "cell_type": "markdown",
   "metadata": {},
   "source": [
    "### Setup loss function and optimizer"
   ]
  },
  {
   "cell_type": "code",
   "execution_count": null,
   "metadata": {},
   "outputs": [],
   "source": [
    "loss_fn = nn.CrossEntropyLoss()\n",
    "\n",
    "# lr smaller than 0.001\n",
    "optimizer = torch.optim.Adam(params=model.parameters(), lr=0.001, betas=(0.9, 0.999), eps=1e-08, weight_decay=1e-5)"
   ]
  },
  {
   "attachments": {},
   "cell_type": "markdown",
   "metadata": {},
   "source": [
    "### Training loop - MoCo"
   ]
  },
  {
   "cell_type": "code",
   "execution_count": null,
   "metadata": {},
   "outputs": [],
   "source": [
    "from timeit import default_timer as timer\n",
    "from tqdm.auto import tqdm\n",
    "from model.evaluation import train_step, test_step # use torchmetrics.utilities.data.select_topk\n",
    "from model.utilis import print_train_time, accuracy_top_k\n",
    "import matplotlib.pyplot as plt\n",
    "import os\n",
    "import cv2\n",
    "\n",
    "y_loss = {}  # loss history\n",
    "y_loss['train'] = []\n",
    "y_loss['val'] = []\n",
    "top5_rate = {}\n",
    "top5_rate['train'] = []\n",
    "top5_rate['val'] = []\n",
    "\n",
    "x_epoch = []\n",
    "\n",
    "fig = plt.figure()\n",
    "ax0 = fig.add_subplot(121, title=\"Loss\")\n",
    "ax1 = fig.add_subplot(122, title=\"Top 5 accuracy\")\n",
    "\n",
    "def draw_curve(current_epoch):\n",
    "    x_epoch.append(current_epoch)\n",
    "    ax0.plot(x_epoch, torch.Tensor(y_loss['train']), 'bo-', label='train')\n",
    "    # ax0.plot(x_epoch, y_loss['val'], 'ro-', label='val')\n",
    "    ax1.plot(x_epoch, top5_rate['train'], 'bo-', label='train')\n",
    "    # ax1.plot(x_epoch, y_err['val'], 'ro-', label='val')\n",
    "    if current_epoch == 0:\n",
    "        ax0.legend()\n",
    "        ax1.legend()\n",
    "    fig.savefig(os.path.join('./lossGraphs', 'train.jpg'))\n",
    "running_loss = 0.0\n",
    "running_corrects = 0.0\n",
    "\n",
    "train_time_start_on_cpu = timer()\n",
    "\n",
    "epochs = 7\n",
    "for epoch in tqdm(range(epochs)):\n",
    "    print(f'\\n\\tEpoch: {epoch}\\n')\n",
    "\n",
    "    (loss, top5) = train_step(model=model,\n",
    "               data_loader=train_dataloader,\n",
    "               loss_fn=loss_fn,\n",
    "               optimizer=optimizer,\n",
    "               accuracy_fn=accuracy_top_k,\n",
    "               device=device)\n",
    "    # test_step(model=model,\n",
    "    #            data_loader=test_dataloader,\n",
    "    #            loss_fn=loss_fn,\n",
    "    #            accuracy_fn=accuracy_top_k,\n",
    "    #            device=device)    \n",
    "    y_loss[\"train\"].append(loss)\n",
    "    top5_rate[\"train\"].append(top5)\n",
    "    draw_curve(epoch)\n",
    "# Print time taken\n",
    "if epoch > 5:\n",
    "    img = cv2.imread('lossGraphs/train.jpg')\n",
    "    cv2.imshow(\"Loss and accuracy\", img)\n",
    "    cv2.setWindowProperty(\"Loss and accuracy\", cv2.WND_PROP_TOPMOST, 1) #Forces window on top\n",
    "    cv2.waitKey(0)\n",
    "    cv2.destroyAllWindows()\n",
    "train_time_end_on_cpu = timer()\n",
    "total_train_time_model = print_train_time(train_time_start_on_cpu, train_time_end_on_cpu, str(next(model.parameters()).device))"
   ]
  },
  {
   "attachments": {},
   "cell_type": "markdown",
   "metadata": {},
   "source": [
    "### Training loop - For testing CPU and GPU (do not change)"
   ]
  },
  {
   "attachments": {},
   "cell_type": "markdown",
   "metadata": {},
   "source": [
    "### Calculate model results on test dataset"
   ]
  },
  {
   "cell_type": "code",
   "execution_count": null,
   "metadata": {},
   "outputs": [],
   "source": [
    "model_results = test_step(model=model,\n",
    "                           data_loader=test_dataloader,\n",
    "                           loss_fn=loss_fn,\n",
    "                           accuracy_fn=accuracy_top_k,\n",
    "                           device=device)\n",
    "\n",
    "model_results"
   ]
  }
 ],
 "metadata": {
  "kernelspec": {
   "display_name": "base",
   "language": "python",
   "name": "python3"
  },
  "language_info": {
   "codemirror_mode": {
    "name": "ipython",
    "version": 3
   },
   "file_extension": ".py",
   "mimetype": "text/x-python",
   "name": "python",
   "nbconvert_exporter": "python",
   "pygments_lexer": "ipython3",
   "version": "3.10.9"
  },
  "orig_nbformat": 4,
  "vscode": {
   "interpreter": {
    "hash": "55b8989436ef8cb3cc30e2a83b40c7e3f28eafa6710dc24cd20daba60ce811f6"
   }
  }
 },
 "nbformat": 4,
 "nbformat_minor": 2
}
