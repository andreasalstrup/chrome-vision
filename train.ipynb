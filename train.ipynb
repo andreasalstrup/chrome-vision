{
 "cells": [
  {
   "attachments": {},
   "cell_type": "markdown",
   "metadata": {},
   "source": [
    "# The dojo"
   ]
  },
  {
   "attachments": {},
   "cell_type": "markdown",
   "metadata": {},
   "source": [
    "## Setup training device"
   ]
  },
  {
   "cell_type": "code",
   "execution_count": null,
   "metadata": {},
   "outputs": [],
   "source": [
    "!nvidia-smi"
   ]
  },
  {
   "cell_type": "code",
   "execution_count": null,
   "metadata": {},
   "outputs": [],
   "source": [
    "import torch\n",
    "from torch import device, nn\n",
    "import torchvision\n",
    "\n",
    "\n",
    "print(f'PyTorch version: {torch.__version__}\\ntorchvision version: {torchvision.__version__}')\n",
    "\n",
    "device = \"cuda\" if torch.cuda.is_available() else \"cpu\"\n",
    "print(f'Using device: {device}')"
   ]
  },
  {
   "attachments": {},
   "cell_type": "markdown",
   "metadata": {},
   "source": [
    "## Data loading"
   ]
  },
  {
   "cell_type": "code",
   "execution_count": null,
   "metadata": {},
   "outputs": [],
   "source": [
    "from torchvision import datasets\n",
    "from torch.utils.data import DataLoader\n",
    "from torchvision.transforms import ToTensor\n",
    "import os\n",
    "import pandas as pd\n",
    "from torchvision.io import read_image\n",
    "from torch.utils.data import Dataset\n",
    "from torch.utils.data import Dataset, DataLoader\n",
    "\n",
    "MNIST_train_data = datasets.FashionMNIST(\n",
    "    root=\"data\",\n",
    "    train=True,\n",
    "    download=True,\n",
    "    transform=ToTensor(),\n",
    "    target_transform=None\n",
    ")\n",
    "\n",
    "MNIST_test_data = datasets.FashionMNIST(\n",
    "    root=\"data\",\n",
    "    train=False,\n",
    "    download=True,\n",
    "    transform=ToTensor()\n",
    ")\n",
    "\n",
    "class CustomImageDataset(Dataset):\n",
    "    def __init__(self, annotations_file, img_dir, transform=None, target_transform=None):\n",
    "        self.img_dir = img_dir\n",
    "        self.img_names = pd.read_csv(img_dir + \"/../../\" + annotations_file)        \n",
    "        self.transform = transform\n",
    "        self.target_transform = target_transform\n",
    "\n",
    "    def __len__(self):\n",
    "        return len(self.img_names)\n",
    "\n",
    "    def __getitem__(self, idx):        \n",
    "        img_path = os.path.join(self.img_dir, self.img_names.iloc[idx, 0])\n",
    "        image = read_image(img_path)        \n",
    "        if self.transform:\n",
    "            image = self.transform(image)\n",
    "        return image.float()\n",
    "\n",
    "\n",
    "MNIST_class_names = MNIST_train_data.classes\n",
    "\n",
    "train_data = CustomImageDataset(\"indices/trainIndex/bremen.csv\",\"data/leftImg8bit/train/bremen/\")\n",
    "test_data = CustomImageDataset(\"indices/testIndex/berlin.csv\",\"data/leftImg8bit/test/berlin/\")\n",
    "\n",
    "# Turn data into batches (mini-batches)\n",
    "# More computationally efficent, so we dont store all data in memory\n",
    "# Gives neural network more changes to update its gradients per epoch\n",
    "# andrew ng minibatches\n",
    "\n",
    "BATCH_SIZE = 5\n",
    "\n",
    "train_dataloader = DataLoader(train_data,\n",
    "                              batch_size=BATCH_SIZE,\n",
    "                              shuffle=True)\n",
    "\n",
    "test_dataloader = DataLoader(test_data,\n",
    "                             batch_size=BATCH_SIZE,\n",
    "                             shuffle=False)\n",
    "\n",
    "MNIST_train_dataloader = DataLoader(MNIST_train_data,\n",
    "                              batch_size=BATCH_SIZE,\n",
    "                              shuffle=True)\n",
    "\n",
    "MNIST_test_dataloader = DataLoader(MNIST_test_data,\n",
    "                             batch_size=BATCH_SIZE,\n",
    "                             shuffle=False)\n",
    "\n",
    "print(f'Len of train dataloader: {len(train_dataloader)} batches of {BATCH_SIZE}')\n",
    "print(f'Len of test dataloader: {len(test_dataloader)} batches of {BATCH_SIZE}')"
   ]
  },
  {
   "attachments": {},
   "cell_type": "markdown",
   "metadata": {},
   "source": [
    "### Check out what's inside the training dataloader"
   ]
  },
  {
   "cell_type": "code",
   "execution_count": null,
   "metadata": {},
   "outputs": [],
   "source": [
    "train_features_batch = next(iter(train_dataloader))\n",
    "MNIST_train_features_batch, MNIST_train_labels_batch = next(iter(MNIST_train_dataloader))"
   ]
  },
  {
   "attachments": {},
   "cell_type": "markdown",
   "metadata": {},
   "source": [
    "## Model"
   ]
  },
  {
   "attachments": {},
   "cell_type": "markdown",
   "metadata": {},
   "source": [
    "### Create a flatten layer - Testing Flatten()"
   ]
  },
  {
   "cell_type": "code",
   "execution_count": null,
   "metadata": {},
   "outputs": [],
   "source": [
    "flatten_model = nn.Flatten()\n",
    "\n",
    "x = MNIST_train_features_batch[0]\n",
    "print(f'Shape before flattening: {x.shape}')     # torch.Size([3, 1024, 2048])\n",
    "\n",
    "output = flatten_model(x)\n",
    "print(f'Shape after flattening: {output.shape}') # torch.Size([3, 2097152])"
   ]
  },
  {
   "attachments": {},
   "cell_type": "markdown",
   "metadata": {},
   "source": [
    "### Instantiate model"
   ]
  },
  {
   "cell_type": "code",
   "execution_count": null,
   "metadata": {},
   "outputs": [],
   "source": [
    "from model.chrome_vision import ChromeVisionModel\n",
    "\n",
    "model = ChromeVisionModel(\n",
    "    input_shape= 784,    \n",
    "    hidden_units=10,    # Units in the hidden layer\n",
    "    output_shape=(len(MNIST_class_names)) # one for every class (Arbitrary right now)\n",
    ").to(device)"
   ]
  },
  {
   "cell_type": "code",
   "execution_count": null,
   "metadata": {},
   "outputs": [],
   "source": [
    "from model.chrome_vision import ChromeVisionModelV2\n",
    "\n",
    "model_MNIST_data = ChromeVisionModelV2(\n",
    "    input_shape=1,      # Color channel: black/white \n",
    "    hidden_units=10,    # Units in the hidden layer\n",
    "    output_shape=(len(MNIST_class_names)) # Each class\n",
    ").to(device)"
   ]
  },
  {
   "cell_type": "code",
   "execution_count": null,
   "metadata": {},
   "outputs": [],
   "source": [
    "from model.chrome_vision import ChromeCut\n",
    "import model.encoder as chrome50\n",
    "\n",
    "resnet = chrome50.ResNet50\n",
    "\n",
    "model_MNIST_Cut = ChromeCut(\n",
    "    base_encoder=resnet,\n",
    "    feature_dim=len(MNIST_class_names),\n",
    "    queue_size=256,\n",
    "    momentum=0.9,\n",
    "    softmax_temp=0.07,\n",
    "    mlp=False\n",
    ").to(device)"
   ]
  },
  {
   "attachments": {},
   "cell_type": "markdown",
   "metadata": {},
   "source": [
    "### Setup loss function and optimizer"
   ]
  },
  {
   "cell_type": "code",
   "execution_count": null,
   "metadata": {},
   "outputs": [],
   "source": [
    "loss_fn = nn.CrossEntropyLoss()\n",
    "optimizer = torch.optim.SGD(params=model_MNIST_Cut.parameters(), lr=0.1)"
   ]
  },
  {
   "attachments": {},
   "cell_type": "markdown",
   "metadata": {},
   "source": [
    "### Training loop"
   ]
  },
  {
   "cell_type": "code",
   "execution_count": null,
   "metadata": {},
   "outputs": [],
   "source": [
    "from timeit import default_timer as timer\n",
    "from tqdm.auto import tqdm\n",
    "from model.evaluation import train_step, test_step, accuracy_fn # use torchmetrics.Accuracy()\n",
    "from model.utilis import print_train_time\n",
    "\n",
    "torch.manual_seed(42)\n",
    "train_time_start_on_cpu = timer()\n",
    "\n",
    "epochs = 3\n",
    "for epoch in tqdm(range(epochs)):\n",
    "    print(f'Epoch: {epoch}\\n')\n",
    "\n",
    "    train_step(model=model_MNIST_Cut,\n",
    "               data_loader=MNIST_train_dataloader,\n",
    "               loss_fn=loss_fn,\n",
    "               optimizer=optimizer,\n",
    "               accuracy_fn=accuracy_fn,\n",
    "               device=device)\n",
    "    \n",
    "    # test_step(model=model_MNIST_Cut,\n",
    "    #            data_loader=MNIST_test_dataloader,\n",
    "    #            loss_fn=loss_fn,\n",
    "    #            accuracy_fn=accuracy_fn,\n",
    "    #            device=device)\n",
    "\n",
    "# Print time taken\n",
    "train_time_end_on_cpu = timer()\n",
    "total_train_time_model = print_train_time(train_time_start_on_cpu, train_time_end_on_cpu, str(next(model.parameters()).device))"
   ]
  },
  {
   "attachments": {},
   "cell_type": "markdown",
   "metadata": {},
   "source": [
    "### Calculate model results on test dataset"
   ]
  },
  {
   "cell_type": "code",
   "execution_count": null,
   "metadata": {},
   "outputs": [],
   "source": [
    "# model_results = test_step(model=model,\n",
    "#                            data_loader=test_dataloader,\n",
    "#                            loss_fn=loss_fn,\n",
    "#                            accuracy_fn=accuracy_fn,\n",
    "#                            device=device)\n",
    "\n",
    "# model_results"
   ]
  }
 ],
 "metadata": {
  "kernelspec": {
   "display_name": "cv",
   "language": "python",
   "name": "python3"
  },
  "language_info": {
   "codemirror_mode": {
    "name": "ipython",
    "version": 3
   },
   "file_extension": ".py",
   "mimetype": "text/x-python",
   "name": "python",
   "nbconvert_exporter": "python",
   "pygments_lexer": "ipython3",
   "version": "3.10.9"
  },
  "orig_nbformat": 4,
  "vscode": {
   "interpreter": {
    "hash": "b7cc52528f17719f66de4178bdc6fdd9866f54f2885d892339eff3ff414cd1c2"
   }
  }
 },
 "nbformat": 4,
 "nbformat_minor": 2
}
